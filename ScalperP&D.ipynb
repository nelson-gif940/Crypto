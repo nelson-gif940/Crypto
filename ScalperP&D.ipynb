{
 "cells": [
  {
   "cell_type": "markdown",
   "metadata": {},
   "source": [
    "# P&D Scalper"
   ]
  },
  {
   "cell_type": "markdown",
   "metadata": {},
   "source": [
    "#### ------------------- Description -------------------------------------------\n",
    "\n",
    "Search for volatily, then enter the trade and do a trailing stop.\n",
    "\n",
    "...\n",
    "\n",
    "Respect the Pump\n",
    "\n",
    "...\n",
    "\n",
    "Raw code to modify it easily / understand it easily\n",
    "\n",
    "\n",
    "#### ----------------------- Notebook parts ------------------------------------\n",
    "\n",
    "1. API key setting\n",
    "2. Le algorithme (trailing stop, scanning, combining the two)\n",
    "3. Testing (new data / old data)\n",
    "4. Optimizing\n",
    "\n",
    "#### ------------------------------------------------------------------------------"
   ]
  },
  {
   "cell_type": "markdown",
   "metadata": {},
   "source": [
    "## 0. Import lib"
   ]
  },
  {
   "cell_type": "code",
   "execution_count": 87,
   "metadata": {},
   "outputs": [],
   "source": [
    "import binance as b #to get the quotes (get only)\n",
    "#from binance.client import Client #to send orders\n",
    "import numpy as np #numpy \n",
    "import time as t #to use the function sleep"
   ]
  },
  {
   "cell_type": "markdown",
   "metadata": {},
   "source": [
    "## 1. API KEY SETTING"
   ]
  },
  {
   "cell_type": "code",
   "execution_count": 1,
   "metadata": {},
   "outputs": [],
   "source": [
    "#api_key = 'MmGNjK8dN5HqJP6gXNndnK7R7BZJMbY0xsRvLXvEWkIpyqVIZq4lfz8TGfb3Hxg' #example key \n",
    "#api_secret = 'mp7XgL9BySagqwEc5AIAIE9s0TtBCweCTA9Rz32b9UVTi8gAYE0jmBeLMsmT1N' #example secret key\n",
    "\n",
    "#client = Client(api_key, api_secret)\n",
    "\n",
    "#No used in the following, but should be used to send orders"
   ]
  },
  {
   "cell_type": "markdown",
   "metadata": {},
   "source": [
    "## 2. LE ALGORITHME"
   ]
  },
  {
   "cell_type": "markdown",
   "metadata": {},
   "source": [
    "### 2.1 Le Trailing Stop"
   ]
  },
  {
   "cell_type": "markdown",
   "metadata": {},
   "source": [
    "Setting \"empty\" variable and the percentage of loss, commition, etc. \n",
    "Things important to modify are pointed with \"<------------------\""
   ]
  },
  {
   "cell_type": "code",
   "execution_count": 173,
   "metadata": {},
   "outputs": [],
   "source": [
    "end=0 #to start the loop, empty variable\n",
    "\n",
    "index_n=\"ETHUSDT\" #to test the loop, here with ETHUSDT <------------------------------\n",
    "start=float(b.prices()[index_n]) #getting the price of ETHUSDT with b.prices() as a string and then transforming into float\n",
    "#add send order here\n",
    "\n",
    "risk=0.02 #risk in percent / here is 0.02% not 2% <------------------------------\n",
    "net_risk=(100-risk)/100 #resulting risk to compute stoploss price\n",
    "stoploss=net_risk*start #getting the price for the stoploss\n",
    "\n",
    "trail=start-stoploss #trailling stop value (difference between price and stoploss)\n",
    "\n",
    "high=start #to start the loop\n",
    "price_to_retain=start #to the start the loop\n",
    "\n",
    "com=0.001 #comission in percentage divided by 100 / here it is 0.1% <------------------------------"
   ]
  },
  {
   "cell_type": "markdown",
   "metadata": {},
   "source": [
    "While loop to do the trailing stop for an order and then compute the result of the transaction taking comission in account"
   ]
  },
  {
   "cell_type": "code",
   "execution_count": 174,
   "metadata": {},
   "outputs": [
    {
     "name": "stdout",
     "output_type": "stream",
     "text": [
      "high: 1636.55 price:  1637.55  stop : 1635.862822\n",
      "new high : 1637.74\n",
      "high: 1637.74 price:  1640.0  stop : 1637.41269\n",
      "new high : 1640.85\n",
      "order closed\n",
      "high: 1640.85 price:  1640.81  stop : 1640.52269\n",
      "You won = 0.862760000000435\n"
     ]
    }
   ],
   "source": [
    "while price_to_retain>0:  #will always be above 0, can also use while True\n",
    "        \n",
    "    if high<float(b.prices()[index_n]): #if price higher than high, set new high from price\n",
    "        high=float(b.prices()[index_n]) ; print(\"new high :\", high)\n",
    "        stop=high-trail #computing the new stop\n",
    "        \n",
    "    if float(b.prices()[index_n])<high-trail: #if price under high-trail, close the trade\n",
    "        end=float(b.prices()[index_n]); print(\"order closed\")\n",
    "        #add close order here\n",
    "        \n",
    "    if float(b.prices()[index_n])<stoploss: #if price under stoploss price, close the trade\n",
    "        end=float(b.prices()[index_n]) ; print(\"order closed\")\n",
    "        \n",
    "    t.sleep(1) #price refreshing rate, in seconds\n",
    "    \n",
    "    price_to_retain=float(b.prices()[index_n]) #actualizing price to retain\n",
    "    \n",
    "    print('high:', high, 'price: ', price_to_retain, ' stop :', stoploss)\n",
    "    \n",
    "    if end>0: #breaking the loop and computing the result\n",
    "        result=end*(1-com)-start*(1+com) #comission to simulate the spread\n",
    "        print('You won =', result)\n",
    "        break"
   ]
  },
  {
   "cell_type": "markdown",
   "metadata": {},
   "source": [
    "## 2.2 Le Scanning"
   ]
  },
  {
   "cell_type": "markdown",
   "metadata": {},
   "source": [
    "Do le scanning of the market to find the most volatile crypto."
   ]
  },
  {
   "cell_type": "markdown",
   "metadata": {},
   "source": [
    "### 2.2.1 Getting the names of each crypto\n",
    "\n",
    "(sketchy part, doesn't work anymore if the order of crypto change, need to find a better way)"
   ]
  },
  {
   "cell_type": "code",
   "execution_count": 177,
   "metadata": {},
   "outputs": [],
   "source": [
    "list_=b.prices() #get the prices\n",
    "data = list(list_.items()) #transform the dictionnary to a list\n",
    "an_array = np.array(data) #transform the list to an array\n",
    "name_list=[item[0] for item in an_array] #get the first item of each subarray"
   ]
  },
  {
   "cell_type": "markdown",
   "metadata": {},
   "source": [
    "### 2.2.2 Scanning loop"
   ]
  },
  {
   "cell_type": "markdown",
   "metadata": {},
   "source": [
    "Setting the parameters"
   ]
  },
  {
   "cell_type": "code",
   "execution_count": null,
   "metadata": {},
   "outputs": [],
   "source": [
    "time=10 #time step between each prices data\n",
    "percent=1.03 #percent of price "
   ]
  },
  {
   "cell_type": "markdown",
   "metadata": {},
   "source": [
    "Loop"
   ]
  },
  {
   "cell_type": "code",
   "execution_count": 184,
   "metadata": {},
   "outputs": [
    {
     "name": "stdout",
     "output_type": "stream",
     "text": [
      "Loop started :)\n",
      "Searching....\n",
      "7.692307692307708  percent for  TROYBTC\n",
      "Searching....\n",
      "2.0  percent for  VIBEBTC\n",
      "Searching....\n",
      "2.631578947368425  percent for  CDTBTC\n",
      "Searching....\n",
      "4.761904761904773  percent for  STMXBTC\n",
      "Searching....\n",
      "16.66666666666667  percent for  TNBBTC\n",
      "Searching....\n"
     ]
    },
    {
     "ename": "KeyboardInterrupt",
     "evalue": "",
     "output_type": "error",
     "traceback": [
      "\u001b[1;31m---------------------------------------------------------------------------\u001b[0m",
      "\u001b[1;31mKeyboardInterrupt\u001b[0m                         Traceback (most recent call last)",
      "\u001b[1;32m<ipython-input-184-b69aec2cec8d>\u001b[0m in \u001b[0;36m<module>\u001b[1;34m\u001b[0m\n\u001b[0;32m      8\u001b[0m     \u001b[0mprint\u001b[0m\u001b[1;33m(\u001b[0m\u001b[1;34m\"Searching....\"\u001b[0m\u001b[1;33m)\u001b[0m\u001b[1;33m\u001b[0m\u001b[1;33m\u001b[0m\u001b[0m\n\u001b[0;32m      9\u001b[0m \u001b[1;33m\u001b[0m\u001b[0m\n\u001b[1;32m---> 10\u001b[1;33m     \u001b[0mt\u001b[0m\u001b[1;33m.\u001b[0m\u001b[0msleep\u001b[0m\u001b[1;33m(\u001b[0m\u001b[0mtime\u001b[0m\u001b[1;33m)\u001b[0m \u001b[1;31m#sleeping the time set in the parameters\u001b[0m\u001b[1;33m\u001b[0m\u001b[1;33m\u001b[0m\u001b[0m\n\u001b[0m\u001b[0;32m     11\u001b[0m \u001b[1;33m\u001b[0m\u001b[0m\n\u001b[0;32m     12\u001b[0m     \u001b[0mprice_new\u001b[0m\u001b[1;33m=\u001b[0m\u001b[0mb\u001b[0m\u001b[1;33m.\u001b[0m\u001b[0mprices\u001b[0m\u001b[1;33m(\u001b[0m\u001b[1;33m)\u001b[0m \u001b[1;31m#getting new price\u001b[0m\u001b[1;33m\u001b[0m\u001b[1;33m\u001b[0m\u001b[0m\n",
      "\u001b[1;31mKeyboardInterrupt\u001b[0m: "
     ]
    }
   ],
   "source": [
    "price=b.prices() #getting the price\n",
    "arr_old_0=np.array(list(price.items())) #tranforming the price dictionnary into an array\n",
    "arr_old_1=[float(item[1]) for item in arr_old_0] #getting only the price from the array, setting the starting prices \n",
    "print(\"Loop started :)\")\n",
    "\n",
    "while True:\n",
    "    \n",
    "    print(\"Searching....\")\n",
    "    \n",
    "    t.sleep(time) #sleeping the time set in the parameters\n",
    "    \n",
    "    price_new=b.prices() #getting new price\n",
    "    arr_new_0=np.array(list(price_new.items())) #transforming the prices as before\n",
    "    arr_new_1=[float(item[1]) for item in arr_new_0] #idem\n",
    "    \n",
    "    percent_table=np.divide(arr_new_1,arr_old_1) #getting the percent difference \n",
    "    \n",
    "    \n",
    "    max_percent=np.max(percent_table) #getting the max of the prices\n",
    "    index=np.where(percent_table == max_percent) #getting the position of the max to get the name\n",
    "    index_name=name_list[index[0][0]] #finding the name from the index of the max\n",
    "    print(max_percent*100-100, ' percent for ',index_name)\n",
    "    \n",
    "    arr_old_1=arr_new_1 #setting the new prices to compare "
   ]
  },
  {
   "cell_type": "markdown",
   "metadata": {},
   "source": [
    "## 2.3 Le combining "
   ]
  },
  {
   "cell_type": "markdown",
   "metadata": {},
   "source": [
    "Combining scanning and buying / closing order with trailing stop"
   ]
  },
  {
   "cell_type": "markdown",
   "metadata": {},
   "source": [
    "Parameters (percent threshold)"
   ]
  },
  {
   "cell_type": "code",
   "execution_count": 193,
   "metadata": {},
   "outputs": [],
   "source": [
    "percent = 1.05 #the price change of 5%, then buy"
   ]
  },
  {
   "cell_type": "markdown",
   "metadata": {},
   "source": [
    "Parameters for the trading loop"
   ]
  },
  {
   "cell_type": "code",
   "execution_count": 197,
   "metadata": {},
   "outputs": [],
   "source": [
    "risk=0.02 #risk in percent / here is 0.02% not 2% <------------------------------\n",
    "net_risk=(100-risk)/100 #resulting risk to compute stoploss price\n",
    "\n",
    "com=0.001 #comission in percentage divided by 100 / here it is 0.1% <------------------------------"
   ]
  },
  {
   "cell_type": "markdown",
   "metadata": {},
   "source": [
    "Loop"
   ]
  },
  {
   "cell_type": "code",
   "execution_count": 200,
   "metadata": {},
   "outputs": [
    {
     "name": "stdout",
     "output_type": "stream",
     "text": [
      "Loop started :)\n",
      "Searching....\n",
      "2.893634005188588  percent for  BOTBTC\n",
      "Searching....\n",
      "2.0  percent for  IOSTBTC\n",
      "Searching....\n",
      "4.761904761904773  percent for  STMXBTC\n",
      "Searching....\n",
      "4.761904761904773  percent for  SCBTC\n",
      "Searching....\n",
      "1.5564202334630295  percent for  PHBTUSD\n",
      "Searching....\n",
      "7.692307692307708  percent for  DREPBTC\n",
      "order sent ------------\n",
      "high: 1.4e-07  price:  1.4e-07  stop: 1.39972e-07\n",
      "high: 1.4e-07  price:  1.3e-07  stop: 1.39972e-07\n",
      "order closed\n",
      "order closed\n",
      "high: 1.4e-07  price:  1.3e-07  stop: 1.39972e-07\n",
      "You won = -1.0269999999999972e-08\n",
      "Searching....\n",
      "4.761904761904773  percent for  STMXBTC\n",
      "Searching....\n",
      "16.66666666666667  percent for  TNBBTC\n",
      "order sent ------------\n",
      "high: 7e-08  price:  7e-08  stop: 6.9986e-08\n",
      "order closed\n",
      "order closed\n",
      "high: 7e-08  price:  6e-08  stop: 6.9986e-08\n",
      "You won = -1.0129999999999999e-08\n",
      "Searching....\n"
     ]
    },
    {
     "ename": "KeyboardInterrupt",
     "evalue": "",
     "output_type": "error",
     "traceback": [
      "\u001b[1;31m---------------------------------------------------------------------------\u001b[0m",
      "\u001b[1;31mKeyboardInterrupt\u001b[0m                         Traceback (most recent call last)",
      "\u001b[1;32m<ipython-input-200-23b56fb26b59>\u001b[0m in \u001b[0;36m<module>\u001b[1;34m\u001b[0m\n\u001b[0;32m     11\u001b[0m         \u001b[0mprint\u001b[0m\u001b[1;33m(\u001b[0m\u001b[1;34m\"Searching....\"\u001b[0m\u001b[1;33m)\u001b[0m\u001b[1;33m\u001b[0m\u001b[1;33m\u001b[0m\u001b[0m\n\u001b[0;32m     12\u001b[0m \u001b[1;33m\u001b[0m\u001b[0m\n\u001b[1;32m---> 13\u001b[1;33m         \u001b[0mt\u001b[0m\u001b[1;33m.\u001b[0m\u001b[0msleep\u001b[0m\u001b[1;33m(\u001b[0m\u001b[0mtime\u001b[0m\u001b[1;33m)\u001b[0m \u001b[1;31m#sleeping the time set in the parameters\u001b[0m\u001b[1;33m\u001b[0m\u001b[1;33m\u001b[0m\u001b[0m\n\u001b[0m\u001b[0;32m     14\u001b[0m \u001b[1;33m\u001b[0m\u001b[0m\n\u001b[0;32m     15\u001b[0m         \u001b[0mprice_new\u001b[0m\u001b[1;33m=\u001b[0m\u001b[0mb\u001b[0m\u001b[1;33m.\u001b[0m\u001b[0mprices\u001b[0m\u001b[1;33m(\u001b[0m\u001b[1;33m)\u001b[0m \u001b[1;31m#getting new price\u001b[0m\u001b[1;33m\u001b[0m\u001b[1;33m\u001b[0m\u001b[0m\n",
      "\u001b[1;31mKeyboardInterrupt\u001b[0m: "
     ]
    }
   ],
   "source": [
    "price=b.prices() #getting price\n",
    "arr_old_0=np.array(list(price.items())) #same as before\n",
    "arr_old_1=[float(item[1]) for item in arr_old_0] #same as before\n",
    "\n",
    "print(\"Loop started :)\")\n",
    "\n",
    "while True:\n",
    "    \n",
    "    while True:\n",
    "    \n",
    "        print(\"Searching....\")\n",
    "\n",
    "        t.sleep(time) #sleeping the time set in the parameters\n",
    "\n",
    "        price_new=b.prices() #getting new price\n",
    "        arr_new_0=np.array(list(price_new.items())) #transforming the prices as before\n",
    "        arr_new_1=[float(item[1]) for item in arr_new_0] #idem\n",
    "\n",
    "        percent_table=np.divide(arr_new_1,arr_old_1) #getting the percent difference \n",
    "\n",
    "\n",
    "        max_percent=np.max(percent_table) #getting the max of the prices\n",
    "        index=np.where(percent_table == max_percent) #getting the position of the max to get the name\n",
    "        index_n=name_list[index[0][0]] #finding the name from the index of the max\n",
    "        print(max_percent*100-100, ' percent for ',index_n)\n",
    "\n",
    "        arr_old_1=arr_new_1 #setting the new prices to compare \n",
    "        \n",
    "\n",
    "        if max_percent>percent:  #Buying order if the price change more than the set percent\n",
    "            \n",
    "            #send order here with index_name\n",
    "\n",
    "            print(\"order sent ------------\")\n",
    "            \n",
    "            start=float(b.prices()[index_n]) #starting price from index name\n",
    "            \n",
    "            stoploss=net_risk*start #getting the price for the stoploss\n",
    "            trail=start-stoploss #trailling stop value (difference between price and stoploss)\n",
    "\n",
    "            high=start #to start the loop\n",
    "            price_to_retain=start #to the start the loop\n",
    "            \n",
    "            end=0 #empty variable\n",
    "\n",
    "            while price_to_retain>0:  #will always be above 0, can also use while True // Loop as before\n",
    "\n",
    "                if high<float(b.prices()[index_n]): #if price higher than high, set new high from price\n",
    "                    high=float(b.prices()[index_n]) ; print(\"new high :\", high)\n",
    "                    stop=high-trail #computing the new stop\n",
    "\n",
    "                if float(b.prices()[index_n])<high-trail: #if price under high-trail, close the trade\n",
    "                    end=float(b.prices()[index_n]); print(\"order closed\")\n",
    "                    #add close order here\n",
    "\n",
    "                if float(b.prices()[index_n])<stoploss: #if price under stoploss price, close the trade\n",
    "                    end=float(b.prices()[index_n]) ; print(\"order closed\")\n",
    "\n",
    "                t.sleep(1) #price refreshing rate, in seconds\n",
    "\n",
    "                price_to_retain=float(b.prices()[index_n]) #actualizing price to retain\n",
    "\n",
    "                print('high:', high, ' price: ', price_to_retain, ' stop:', stoploss)\n",
    "\n",
    "                if end>0: #breaking the loop and computing the result\n",
    "                    result=end*(1-com)-start*(1+com) #comission to simulate the spread\n",
    "                    print('You won =', result)\n",
    "                    break"
   ]
  },
  {
   "cell_type": "markdown",
   "metadata": {},
   "source": [
    "## 3. TESTING \n"
   ]
  },
  {
   "cell_type": "markdown",
   "metadata": {},
   "source": [
    "### 3.1 Old data"
   ]
  },
  {
   "cell_type": "code",
   "execution_count": null,
   "metadata": {},
   "outputs": [],
   "source": [
    "klines = klines(\"BNBBTC\", KLINE_INTERVAL_1MINUTE, \"1 day ago UTC\") #getkline\n",
    "\n",
    "# feed it in the trade with sleep function to get the price change"
   ]
  },
  {
   "cell_type": "markdown",
   "metadata": {},
   "source": [
    "### 3.2 New Data"
   ]
  },
  {
   "cell_type": "markdown",
   "metadata": {},
   "source": [
    "## 4. OPTIMIZING"
   ]
  },
  {
   "cell_type": "markdown",
   "metadata": {},
   "source": [
    "Running through historical data to find the best paramaters / optimizing Equity for the automatic trade"
   ]
  },
  {
   "cell_type": "code",
   "execution_count": null,
   "metadata": {},
   "outputs": [],
   "source": []
  }
 ],
 "metadata": {
  "kernelspec": {
   "display_name": "Python 3",
   "language": "python",
   "name": "python3"
  },
  "language_info": {
   "codemirror_mode": {
    "name": "ipython",
    "version": 3
   },
   "file_extension": ".py",
   "mimetype": "text/x-python",
   "name": "python",
   "nbconvert_exporter": "python",
   "pygments_lexer": "ipython3",
   "version": "3.8.5"
  }
 },
 "nbformat": 4,
 "nbformat_minor": 4
}
